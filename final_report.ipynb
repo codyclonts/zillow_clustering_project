{
 "cells": [
  {
   "cell_type": "code",
   "execution_count": 1,
   "id": "5b973536",
   "metadata": {
    "scrolled": false
   },
   "outputs": [],
   "source": [
    "# ignore warnings\n",
    "import warnings\n",
    "warnings.filterwarnings(\"ignore\")\n",
    "\n",
    "# Wrangling\n",
    "import pandas as pd\n",
    "import numpy as np\n",
    "import math\n",
    "\n",
    "# Exploring\n",
    "import scipy.stats as stats\n",
    "\n",
    "# Visualizing\n",
    "%matplotlib inline\n",
    "import matplotlib.pyplot as plt\n",
    "import seaborn as sns\n",
    "\n",
    "from env import get_db_url\n",
    "import os\n",
    "from itertools import combinations\n",
    "# default pandas decimal number display format\n",
    "pd.options.display.float_format = '{:20,.2f}'.format\n",
    "from sklearn.model_selection import train_test_split\n",
    "import wrangle_zillow as wrangle\n",
    "import utilities\n",
    "from sklearn.preprocessing import MinMaxScaler\n"
   ]
  },
  {
   "cell_type": "markdown",
   "id": "ae05f380",
   "metadata": {},
   "source": [
    "# Zillow Regression Project"
   ]
  },
  {
   "cell_type": "markdown",
   "id": "816ad9e2",
   "metadata": {},
   "source": [
    "# Executive Summary"
   ]
  },
  {
   "cell_type": "markdown",
   "id": "fd2d3c90",
   "metadata": {},
   "source": [
    "<hr style=“border-top: 5px groove LightCyan ; margin-top: 1px; margin-bottom: 1px”></hr>"
   ]
  },
  {
   "cell_type": "markdown",
   "id": "8a0c55c7",
   "metadata": {},
   "source": [
    "# The Gameplan:\n",
    "\n",
    "- Attempt to explain what factors can be used to explain (and potentially lower) logerror:\n",
    "\n",
    "- Acquire and prepare the data\n",
    "\n",
    "- Explore the different factors that could contribute to logerror\n",
    "\n",
    "- Try out a few different models\n",
    "\n",
    "- Offer final recommendations"
   ]
  },
  {
   "cell_type": "markdown",
   "id": "66a2b416",
   "metadata": {},
   "source": [
    "# Acquiring and Preparing the data"
   ]
  },
  {
   "cell_type": "code",
   "execution_count": null,
   "id": "2045b5b2",
   "metadata": {},
   "outputs": [],
   "source": []
  },
  {
   "cell_type": "code",
   "execution_count": 2,
   "id": "c60d2440",
   "metadata": {},
   "outputs": [],
   "source": [
    "# calling the wrangle function from the wrangle.py file\n",
    "df = wrangle.wrangle_zillow()"
   ]
  },
  {
   "cell_type": "code",
   "execution_count": 4,
   "id": "b16412d5",
   "metadata": {},
   "outputs": [],
   "source": [
    "# This function pulls from the wrangle.py file and splits the data into train, validate, and test\n",
    "# This will be used in the exploration\n",
    "train, validate, test = wrangle.split_zillow_data(df)"
   ]
  },
  {
   "cell_type": "code",
   "execution_count": 23,
   "id": "26b5354c",
   "metadata": {},
   "outputs": [
    {
     "data": {
      "text/plain": [
       "((26026, 22), (11155, 22), (9296, 22))"
      ]
     },
     "execution_count": 23,
     "metadata": {},
     "output_type": "execute_result"
    }
   ],
   "source": [
    "# we will go ahead and scale the data to use later on for the machine learning portion\n",
    "columns_to_scale = df.select_dtypes('number').columns.drop(['propertylandusetypeid', 'fips', 'regionidcity', 'censustractandblock','id.1', 'latitude', 'longitude','regionidzip', 'logerror'])\n",
    "train_s, validate_s, test_s = wrangle.data_scaled(train, validate, test, columns_to_scale)\n",
    "train_s.shape, validate_s.shape, test_s.shape"
   ]
  },
  {
   "cell_type": "markdown",
   "id": "dbd7ab67",
   "metadata": {},
   "source": [
    "# Exploration\n"
   ]
  },
  {
   "cell_type": "code",
   "execution_count": 24,
   "id": "5a0dce4d",
   "metadata": {},
   "outputs": [
    {
     "data": {
      "text/plain": [
       "propertylandusetypeid                           NaN\n",
       "bathroomcnt                                    0.06\n",
       "bedroomcnt                                     0.06\n",
       "calculatedfinishedsquarefeet                   0.07\n",
       "fips                                           0.02\n",
       "latitude                                      -0.02\n",
       "longitude                                      0.01\n",
       "lotsizesquarefeet                              0.00\n",
       "regionidcity                                  -0.00\n",
       "regionidzip                                    0.01\n",
       "yearbuilt                                      0.04\n",
       "taxvaluedollarcnt                              0.01\n",
       "taxamount                                      0.01\n",
       "censustractandblock                            0.02\n",
       "id.1                                          -0.00\n",
       "logerror                                       1.00\n",
       "age                                           -0.04\n",
       "month                                         -0.01\n",
       "Name: logerror, dtype: float64"
      ]
     },
     "execution_count": 24,
     "metadata": {},
     "output_type": "execute_result"
    }
   ],
   "source": [
    "columns_corr = train.corr()\n",
    "columns_corr.logerror"
   ]
  },
  {
   "cell_type": "markdown",
   "id": "ad702f20",
   "metadata": {},
   "source": [
    "Takeaway : \n",
    "\n",
    "    - the closer that a value is to one, the more similar it is to log error\n",
    "    \n",
    "    - There doesn't seem to be anything that has a particularly strong relationship with log error right off the bat"
   ]
  },
  {
   "cell_type": "code",
   "execution_count": null,
   "id": "94f9e205",
   "metadata": {},
   "outputs": [],
   "source": []
  }
 ],
 "metadata": {
  "kernelspec": {
   "display_name": "Python 3 (ipykernel)",
   "language": "python",
   "name": "python3"
  },
  "language_info": {
   "codemirror_mode": {
    "name": "ipython",
    "version": 3
   },
   "file_extension": ".py",
   "mimetype": "text/x-python",
   "name": "python",
   "nbconvert_exporter": "python",
   "pygments_lexer": "ipython3",
   "version": "3.9.7"
  }
 },
 "nbformat": 4,
 "nbformat_minor": 5
}
